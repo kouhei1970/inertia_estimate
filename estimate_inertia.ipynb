{
 "cells": [
  {
   "cell_type": "code",
   "execution_count": 25,
   "id": "7681c486-6d49-46cd-b18b-46ec64096c95",
   "metadata": {},
   "outputs": [
    {
     "name": "stdout",
     "output_type": "stream",
     "text": [
      "4.589999999999999e-05 3.8284425e-08\n"
     ]
    }
   ],
   "source": [
    "# 長方形の慣性モーメント\n",
    "\n",
    "h = 0.003\n",
    "L = 0.1\n",
    "W = 0.003\n",
    "\n",
    "rho = 1.7  # g/cm^3 CFRP\n",
    "rho = rho * 1e-3 / (1e-2) ** 3  # kg/m^3 CFRP\n",
    "\n",
    "# 質量\n",
    "M1 = rho * W * h**2\n",
    "J1 = M1 * ((0.5 * L) ** 2 + (0.5 * W) ** 2) / 3\n",
    "\n",
    "\n",
    "print(M1, J1)"
   ]
  },
  {
   "cell_type": "code",
   "execution_count": 26,
   "id": "d010e56a-b5a0-4109-ac53-4f848dbaa483",
   "metadata": {},
   "outputs": [
    {
     "name": "stdout",
     "output_type": "stream",
     "text": [
      "1.1475e-07\n"
     ]
    }
   ],
   "source": [
    "# 質量M1の質点の中心からr離れた慣性モーメント\n",
    "\n",
    "r = 0.05\n",
    "J2 = M1 * r**2\n",
    "\n",
    "print(J2)"
   ]
  },
  {
   "cell_type": "code",
   "execution_count": 28,
   "id": "6861d216-5c3d-4a3b-a49a-5812eedc7f86",
   "metadata": {},
   "outputs": [
    {
     "name": "stdout",
     "output_type": "stream",
     "text": [
      "1.53034425e-07\n"
     ]
    }
   ],
   "source": [
    "# 上記の長方形のr離れた慣性モーメント平行軸の定理\n",
    "\n",
    "J3 = J1 + M1 * r**2\n",
    "\n",
    "print(J3)"
   ]
  },
  {
   "cell_type": "code",
   "execution_count": 29,
   "id": "d5874607-6cf2-4826-a608-cc4858bddfc7",
   "metadata": {},
   "outputs": [
    {
     "name": "stdout",
     "output_type": "stream",
     "text": [
      "1.4874999999999998e-07\n"
     ]
    }
   ],
   "source": [
    "# 長方形を３分割して各質点の慣性モーメントの合計\n",
    "import numpy as np\n",
    "\n",
    "M2 = M1 / 3\n",
    "r1 = np.sqrt(r**2 + (L / 3) ** 2)\n",
    "\n",
    "J4 = M2 * (r**2 + r1**2 + r1**2)\n",
    "\n",
    "print(J4)"
   ]
  },
  {
   "cell_type": "code",
   "execution_count": 30,
   "id": "4790539c-4f94-45b3-932e-859c2d1edea0",
   "metadata": {},
   "outputs": [
    {
     "name": "stdout",
     "output_type": "stream",
     "text": [
      "1.5147e-07\n"
     ]
    }
   ],
   "source": [
    "# 長方形を5分割して各質点の慣性モーメントの合計\n",
    "import numpy as np\n",
    "\n",
    "M3 = M1 / 5\n",
    "r2 = np.sqrt(r**2 + (L / 5) ** 2)\n",
    "r3 = np.sqrt(r**2 + (2 * L / 5) ** 2)\n",
    "\n",
    "J5 = M3 * (r**2 + 2 * (r2**2 + r3**2))\n",
    "\n",
    "print(J5)"
   ]
  },
  {
   "cell_type": "code",
   "execution_count": 32,
   "id": "e0678f4a-cb68-4d37-aefb-053a4643f319",
   "metadata": {},
   "outputs": [
    {
     "name": "stdout",
     "output_type": "stream",
     "text": [
      "1.5221938775510202e-07\n"
     ]
    }
   ],
   "source": [
    "# 長方形を7分割して各質点の慣性モーメントの合計\n",
    "import numpy as np\n",
    "\n",
    "M4 = M1 / 7\n",
    "r4 = np.sqrt(r**2 + (L / 7) ** 2)\n",
    "r5 = np.sqrt(r**2 + (2 * L / 7) ** 2)\n",
    "r6 = np.sqrt(r**2 + (3 * L / 7) ** 2)\n",
    "\n",
    "J6 = M4 * (r**2 + 2 * (r4**2 + r5**2 + r6**2))\n",
    "\n",
    "print(J6)"
   ]
  },
  {
   "cell_type": "code",
   "execution_count": 63,
   "id": "c5fdba3c-c116-4fd2-b289-439b110e492b",
   "metadata": {},
   "outputs": [
    {
     "name": "stdout",
     "output_type": "stream",
     "text": [
      "1.52960197710718e-07\n"
     ]
    }
   ],
   "source": [
    "N = 31\n",
    "MN = M1 / N\n",
    "\n",
    "rsq_sum = 0.0\n",
    "for i in range(int((N - 1) / 2)):\n",
    "    rsq_sum = rsq_sum + np.sqrt(r**2 + ((i + 1) * L / N) ** 2) ** 2\n",
    "J_ans = MN * (r**2 + 2 * rsq_sum)\n",
    "\n",
    "print(J_ans)"
   ]
  },
  {
   "cell_type": "code",
   "execution_count": 56,
   "id": "2b45fd15-4f2c-4fae-8760-d84afafda680",
   "metadata": {},
   "outputs": [
    {
     "data": {
      "text/plain": [
       "1699.9999999999995"
      ]
     },
     "execution_count": 56,
     "metadata": {},
     "output_type": "execute_result"
    }
   ],
   "source": [
    "rho"
   ]
  },
  {
   "cell_type": "code",
   "execution_count": null,
   "id": "09823b74-2726-46ed-acb9-dd038ebf7984",
   "metadata": {},
   "outputs": [],
   "source": []
  }
 ],
 "metadata": {
  "kernelspec": {
   "display_name": "Python 3 (ipykernel)",
   "language": "python",
   "name": "python3"
  },
  "language_info": {
   "codemirror_mode": {
    "name": "ipython",
    "version": 3
   },
   "file_extension": ".py",
   "mimetype": "text/x-python",
   "name": "python",
   "nbconvert_exporter": "python",
   "pygments_lexer": "ipython3",
   "version": "3.9.7"
  }
 },
 "nbformat": 4,
 "nbformat_minor": 5
}
